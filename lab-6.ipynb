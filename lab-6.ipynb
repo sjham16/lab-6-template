{
 "cells": [
  {
   "cell_type": "markdown",
   "metadata": {
    "deletable": false,
    "editable": false,
    "nbgrader": {
     "cell_type": "markdown",
     "checksum": "d0fd657e1a0e9198bff2f2bab8bccb51",
     "grade": false,
     "grade_id": "cell-5994419d0d866e43",
     "locked": true,
     "schema_version": 3,
     "solution": false,
     "task": false
    }
   },
   "source": [
    "## SI 330 Lab 3: Indexing Dataframes\n",
    "\n",
    "PLEASE REMEMBER TO **READ** THE TEXT AS YOU WORK ALONG, FROM TOP TO BOTTOM, WITH THIS NOTEBOOK!"
   ]
  },
  {
   "cell_type": "code",
   "execution_count": 16,
   "metadata": {
    "deletable": false,
    "editable": false,
    "nbgrader": {
     "cell_type": "code",
     "checksum": "63dadc941fa2be42d3cb21c1e08a1c56",
     "grade": false,
     "grade_id": "cell-74c4af0d8d3a4a4a",
     "locked": true,
     "schema_version": 3,
     "solution": false,
     "task": false
    }
   },
   "outputs": [],
   "source": [
    "### RUN THIS CELL FIRST\n",
    "from interactive import si330_lab_questions\n",
    "import pandas as pd\n",
    "import numpy as np"
   ]
  },
  {
   "cell_type": "markdown",
   "metadata": {
    "deletable": false,
    "editable": false,
    "nbgrader": {
     "cell_type": "markdown",
     "checksum": "1184f4c937e8d29a34a7a60f429c69d4",
     "grade": false,
     "grade_id": "cell-79f3faa28baba6af",
     "locked": true,
     "schema_version": 3,
     "solution": false,
     "task": false
    }
   },
   "source": [
    "### Part 1: Weather Across DateTimes \n",
    "#### Estimated Time: 20 min.\n",
    "\n",
    "Before we begin, let's review the function `apply()` one last time. Consider the following dataframe `df` and four function definitions:\n",
    "\n",
    "| Inventory  | Rupees (Buy) | Rupees (Sell) |\n",
    "| ---------- | -----------  | ------------  |\n",
    "| Amber      |    120       |     30        |\n",
    "| Ironshroom |     20       |      5        |\n",
    "| Cold Darner|      8       |      2        |\n",
    "|Goron Spice |     16       |      4        |\n",
    "\n",
    "![matching question 1](matching1.png)\n",
    "\n",
    "Answer the following question correctly before moving on."
   ]
  },
  {
   "cell_type": "code",
   "execution_count": 2,
   "metadata": {
    "deletable": false,
    "editable": false,
    "nbgrader": {
     "cell_type": "code",
     "checksum": "98f81a359c330f844adc5583e64fb0c8",
     "grade": false,
     "grade_id": "cell-6a3fa6994ef9c9c8",
     "locked": true,
     "schema_version": 3,
     "solution": false,
     "task": false
    }
   },
   "outputs": [
    {
     "data": {
      "application/vnd.jupyter.widget-view+json": {
       "model_id": "6f1abe65c152460eae68565ec9182786",
       "version_major": 2,
       "version_minor": 0
      },
      "text/plain": [
       "VBox(children=(Output(layout=Layout(width='auto')), HBox(children=(Output(layout=Layout(width='auto')), Text(v…"
      ]
     },
     "metadata": {},
     "output_type": "display_data"
    }
   ],
   "source": [
    "si330_lab_questions(0)"
   ]
  },
  {
   "cell_type": "code",
   "execution_count": 6,
   "metadata": {},
   "outputs": [
    {
     "ename": "ValueError",
     "evalue": "only 2 non-keyword arguments accepted",
     "output_type": "error",
     "traceback": [
      "\u001b[0;31m---------------------------------------------------------------------------\u001b[0m",
      "\u001b[0;31mValueError\u001b[0m                                Traceback (most recent call last)",
      "\u001b[0;32m<ipython-input-6-a2422e6f7c21>\u001b[0m in \u001b[0;36m<module>\u001b[0;34m\u001b[0m\n\u001b[0;32m----> 1\u001b[0;31m \u001b[0mdf\u001b[0m \u001b[0;34m=\u001b[0m \u001b[0mpd\u001b[0m\u001b[0;34m.\u001b[0m\u001b[0mDataFrame\u001b[0m\u001b[0;34m(\u001b[0m\u001b[0mnp\u001b[0m\u001b[0;34m.\u001b[0m\u001b[0marray\u001b[0m\u001b[0;34m(\u001b[0m\u001b[0;34m[\u001b[0m\u001b[0;36m120\u001b[0m\u001b[0;34m,\u001b[0m \u001b[0;36m30\u001b[0m\u001b[0;34m]\u001b[0m\u001b[0;34m,\u001b[0m \u001b[0;34m[\u001b[0m\u001b[0;36m20\u001b[0m\u001b[0;34m,\u001b[0m \u001b[0;36m5\u001b[0m\u001b[0;34m]\u001b[0m\u001b[0;34m,\u001b[0m \u001b[0;34m[\u001b[0m\u001b[0;36m8\u001b[0m\u001b[0;34m,\u001b[0m\u001b[0;36m2\u001b[0m\u001b[0;34m]\u001b[0m\u001b[0;34m,\u001b[0m \u001b[0;34m[\u001b[0m\u001b[0;36m16\u001b[0m\u001b[0;34m,\u001b[0m\u001b[0;36m4\u001b[0m\u001b[0;34m]\u001b[0m\u001b[0;34m)\u001b[0m\u001b[0;34m,\u001b[0m \u001b[0mcolumns\u001b[0m \u001b[0;34m=\u001b[0m \u001b[0;34m[\u001b[0m\u001b[0;34m'Rupee Buy'\u001b[0m\u001b[0;34m,\u001b[0m \u001b[0;34m'Rupee Sell'\u001b[0m\u001b[0;34m]\u001b[0m\u001b[0;34m)\u001b[0m\u001b[0;34m\u001b[0m\u001b[0;34m\u001b[0m\u001b[0m\n\u001b[0m",
      "\u001b[0;31mValueError\u001b[0m: only 2 non-keyword arguments accepted"
     ]
    }
   ],
   "source": []
  },
  {
   "cell_type": "markdown",
   "metadata": {
    "deletable": false,
    "editable": false,
    "nbgrader": {
     "cell_type": "markdown",
     "checksum": "4bdad0e728bdd619b16b09273397a50b",
     "grade": false,
     "grade_id": "cell-d07ed3fd459a4e0d",
     "locked": true,
     "schema_version": 3,
     "solution": false,
     "task": false
    }
   },
   "source": [
    "The focus of today's lab will be on manipulating time series. The dataset consists of a single csv file. Information about this data can be found in the [pdf file](appliance_energyuse.pdf), which is the following paper:\n",
    "\n",
    "[Candanedo, L. M., Feldheim, V., & Deramaix, D. (2017). Data driven prediction models of energy use of appliances in a low-energy house. Energy and buildings, 140, 81-97.](https://www.sciencedirect.com/science/article/abs/pii/S0378778816308970)\n",
    "\n",
    "The data includes energy usage from a house (set up with temperature sensors, humidity sensors, and electric meters in multiple rooms) in Belgium over the course of ~4.5 months. It also contains information about the local weather as measured from the nearest airport weather station (Chièvres Airport,\n",
    "Belgium; see figure). Descriptions of each variable may be found in **Table 2**.\n",
    "\n",
    "![Belgium map](map.png)"
   ]
  },
  {
   "cell_type": "markdown",
   "metadata": {
    "deletable": false,
    "editable": false,
    "nbgrader": {
     "cell_type": "markdown",
     "checksum": "cefd39112d7de52165ef32fcd6b05fca",
     "grade": false,
     "grade_id": "cell-ba7dc732bc23ab55",
     "locked": true,
     "schema_version": 3,
     "solution": false,
     "task": false
    }
   },
   "source": [
    "First, complete `get_data()` by reading in the csv file. Then, make sure the date column is in a DateTime format, and that it is set as the index. Return the resulting *dataframe*.\n",
    "\n",
    "Next, starting on the first date, write a function `get_outdoor_daily_temp()` to return a *series* with the average outdoor temperature in degrees Farenheit ($^\\circ F$) for each day. Here's the conversion formula:\n",
    "\n",
    "$$\\bigg(C * \\frac{9}{5}\\bigg) + 32 = F$$"
   ]
  },
  {
   "cell_type": "code",
   "execution_count": 19,
   "metadata": {
    "deletable": false,
    "nbgrader": {
     "cell_type": "code",
     "checksum": "e295ad4f1aad98efeebf0fcc51b46af4",
     "grade": true,
     "grade_id": "cell-8d011bb992062008",
     "locked": false,
     "points": 1,
     "schema_version": 3,
     "solution": true,
     "task": false
    }
   },
   "outputs": [
    {
     "data": {
      "text/plain": [
       "date\n",
       "2016-01-11    42.660714\n",
       "2016-01-12    42.019375\n",
       "2016-01-13    40.742500\n",
       "2016-01-14    38.177500\n",
       "2016-01-15    36.797500\n",
       "Freq: D, Name: T_out, dtype: float64"
      ]
     },
     "execution_count": 19,
     "metadata": {},
     "output_type": "execute_result"
    }
   ],
   "source": [
    "def get_data():\n",
    "    df = pd.read_csv(\"energydata_complete.csv\")\n",
    "    df['date'] = pd.to_datetime(df['date'])\n",
    "    df = df.set_index('date')\n",
    "    return df\n",
    "\n",
    "def get_outdoor_daily_temp(df):\n",
    "    daily_temps = df.resample('D').mean()['T_out']\n",
    "    daily_temps = daily_temps.apply(c_to_f)\n",
    "    return daily_temps\n",
    "\n",
    "def c_to_f(c):\n",
    "    f = c * (9/5) + 32\n",
    "    return f\n",
    "\n",
    "get_outdoor_daily_temp(get_data()).head()"
   ]
  },
  {
   "cell_type": "code",
   "execution_count": 20,
   "metadata": {
    "deletable": false,
    "editable": false,
    "nbgrader": {
     "cell_type": "code",
     "checksum": "6696bc389bb642b61c835424e00c0b8f",
     "grade": false,
     "grade_id": "cell-96151f93d61765b5",
     "locked": true,
     "schema_version": 3,
     "solution": false,
     "task": false
    }
   },
   "outputs": [
    {
     "name": "stderr",
     "output_type": "stream",
     "text": [
      "/opt/conda/lib/python3.7/site-packages/pandas/plotting/_matplotlib/converter.py:102: FutureWarning: Using an implicitly registered datetime converter for a matplotlib plotting method. The converter was registered by pandas on import. Future versions of pandas will require you to explicitly register matplotlib converters.\n",
      "\n",
      "To register the converters:\n",
      "\t>>> from pandas.plotting import register_matplotlib_converters\n",
      "\t>>> register_matplotlib_converters()\n",
      "  warnings.warn(msg, FutureWarning)\n"
     ]
    },
    {
     "data": {
      "text/plain": [
       "[<matplotlib.lines.Line2D at 0x7f016151dc50>]"
      ]
     },
     "execution_count": 20,
     "metadata": {},
     "output_type": "execute_result"
    },
    {
     "data": {
      "image/png": "[encoded data removed]",
      "text/plain": [
       "<Figure size 432x288 with 1 Axes>"
      ]
     },
     "metadata": {
      "needs_background": "light"
     },
     "output_type": "display_data"
    }
   ],
   "source": [
    "import matplotlib.pyplot as plt\n",
    "\n",
    "plt.xticks(rotation=45)\n",
    "plt.xlabel('Date')\n",
    "plt.ylabel('Temperature ($^\\circ F$)')\n",
    "plt.plot(get_outdoor_daily_temp(get_data()))"
   ]
  },
  {
   "cell_type": "markdown",
   "metadata": {
    "deletable": false,
    "editable": false,
    "nbgrader": {
     "cell_type": "markdown",
     "checksum": "1d32324a8f68f9c3fa4e68ec53b84214",
     "grade": false,
     "grade_id": "cell-538a63676ff9653a",
     "locked": true,
     "schema_version": 3,
     "solution": false,
     "task": false
    }
   },
   "source": [
    "Is this plot as you expected? Make sure it looks reasonable before you continue on with part 2!"
   ]
  },
  {
   "cell_type": "markdown",
   "metadata": {
    "deletable": false,
    "editable": false,
    "nbgrader": {
     "cell_type": "markdown",
     "checksum": "2a142451939f4d144ba51f15af45f484",
     "grade": false,
     "grade_id": "cell-41359e2b88a74a34",
     "locked": true,
     "schema_version": 3,
     "solution": false,
     "task": false
    }
   },
   "source": [
    "<h3><center>END OF PART 1</center></h3>\n",
    "\n",
    "When you are done, **check your solution** with an instructor, or view the solution at **3:25 pm** for the **[matching question](https://drive.google.com/file/d/1SzrgOIXpdCUE-lAmpx61oWguwbAQISev/view?usp=sharing)** and **[get_outdoor_daily_temp](https://drive.google.com/file/d/1M4UuOyLqg4DKsvTxhI19yZwtBhwMcq5v/view?usp=sharing)**.\n",
    "\n",
    "--------------------------------"
   ]
  },
  {
   "cell_type": "markdown",
   "metadata": {
    "deletable": false,
    "editable": false,
    "nbgrader": {
     "cell_type": "markdown",
     "checksum": "b689b7d5358d5a79e05d3be5cedf022a",
     "grade": false,
     "grade_id": "cell-64bc53bd1b09de8e",
     "locked": true,
     "schema_version": 3,
     "solution": false,
     "task": false
    }
   },
   "source": [
    "### Part 2: Energy Usage and Billing\n",
    "\n",
    "#### Estimated Time: 20 min.\n",
    "\n",
    "Now we want to calculate this household's electric bill for each *business month* (exclude January and May), as those months are incomplete. Note: the first month would start on 2016-01-30 and the last month ends on 2016-04-29 (each \"month\" is exactly 30 days).\n",
    "\n",
    "To do so, note that the average electricity rate in Belgium in 2016 was ~$27.5¢$ per kWh (1000 Wh = 1 kWh).\n",
    "Return a dataframe with the total energy consumed (column named `energy`) and total cost (column named `cost`) for each billing cycle from January to April (the indices should be labeled with the FIRST DAY of the billing cycle). Hint: the docs for [resample](https://pandas.pydata.org/pandas-docs/stable/reference/api/pandas.DataFrame.resample.html) might be useful!"
   ]
  },
  {
   "cell_type": "code",
   "execution_count": 24,
   "metadata": {
    "deletable": false,
    "nbgrader": {
     "cell_type": "code",
     "checksum": "28f710145d83f5aa99d3d39199d28137",
     "grade": true,
     "grade_id": "cell-054563b9d2973cf1",
     "locked": false,
     "points": 1,
     "schema_version": 3,
     "solution": true,
     "task": false
    }
   },
   "outputs": [
    {
     "data": {
      "text/html": [
       "<div>\n",
       "<style scoped>\n",
       "    .dataframe tbody tr th:only-of-type {\n",
       "        vertical-align: middle;\n",
       "    }\n",
       "\n",
       "    .dataframe tbody tr th {\n",
       "        vertical-align: top;\n",
       "    }\n",
       "\n",
       "    .dataframe thead th {\n",
       "        text-align: right;\n",
       "    }\n",
       "</style>\n",
       "<table border=\"1\" class=\"dataframe\">\n",
       "  <thead>\n",
       "    <tr style=\"text-align: right;\">\n",
       "      <th></th>\n",
       "      <th>Appliances</th>\n",
       "      <th>lights</th>\n",
       "      <th>energy</th>\n",
       "      <th>cost</th>\n",
       "    </tr>\n",
       "    <tr>\n",
       "      <th>date</th>\n",
       "      <th></th>\n",
       "      <th></th>\n",
       "      <th></th>\n",
       "      <th></th>\n",
       "    </tr>\n",
       "  </thead>\n",
       "  <tbody>\n",
       "    <tr>\n",
       "      <th>2016-01-29</th>\n",
       "      <td>458980</td>\n",
       "      <td>28600</td>\n",
       "      <td>487580</td>\n",
       "      <td>134.0845</td>\n",
       "    </tr>\n",
       "    <tr>\n",
       "      <th>2016-02-29</th>\n",
       "      <td>432800</td>\n",
       "      <td>17480</td>\n",
       "      <td>450280</td>\n",
       "      <td>123.8270</td>\n",
       "    </tr>\n",
       "    <tr>\n",
       "      <th>2016-03-31</th>\n",
       "      <td>406980</td>\n",
       "      <td>10340</td>\n",
       "      <td>417320</td>\n",
       "      <td>114.7630</td>\n",
       "    </tr>\n",
       "  </tbody>\n",
       "</table>\n",
       "</div>"
      ],
      "text/plain": [
       "            Appliances  lights  energy      cost\n",
       "date                                            \n",
       "2016-01-29      458980   28600  487580  134.0845\n",
       "2016-02-29      432800   17480  450280  123.8270\n",
       "2016-03-31      406980   10340  417320  114.7630"
      ]
     },
     "execution_count": 24,
     "metadata": {},
     "output_type": "execute_result"
    }
   ],
   "source": [
    "import datetime\n",
    "\n",
    "df = get_data()\n",
    "\n",
    "def get_monthly_bill(df):\n",
    "    df = df['2016-01-30':'2016-04-29'][['Appliances', 'lights']]\n",
    "    df['energy'] = df['Appliances'] + df['lights']\n",
    "    df = df.resample('BM', label = 'left').sum()\n",
    "    df['cost'] = df['energy'] * (0.275 / 1000)\n",
    "    return df\n",
    "    \n",
    "\n",
    "get_monthly_bill(df)"
   ]
  },
  {
   "cell_type": "markdown",
   "metadata": {
    "deletable": false,
    "editable": false,
    "nbgrader": {
     "cell_type": "markdown",
     "checksum": "86584532a42aa548adb5a4c4a539bc2e",
     "grade": false,
     "grade_id": "cell-cc6d0b3b543994e0",
     "locked": true,
     "schema_version": 3,
     "solution": false,
     "task": false
    }
   },
   "source": [
    "We want to see if the temperature outside is correlated with the electric bill. Recall that we have already written a function in part 1 that gives us a series with daily temperatures. So, let's write a function that utilizes the dataframe you just created, and *upsamples* to yield a dataframe with the same average daily energy usage and cost for each day (per given month).\n",
    "\n",
    "Make sure that the dates range from 2016-01-29 to 2016-04-29! You will need to [reindex](https://pandas.pydata.org/pandas-docs/stable/reference/api/pandas.DataFrame.reindex.html) using a new [date_range](https://pandas.pydata.org/pandas-docs/stable/reference/api/pandas.date_range.html)."
   ]
  },
  {
   "cell_type": "code",
   "execution_count": 26,
   "metadata": {
    "deletable": false,
    "nbgrader": {
     "cell_type": "code",
     "checksum": "048469c2bbc080670aa5e80e8689dc9a",
     "grade": true,
     "grade_id": "cell-e06a3b878112f71e",
     "locked": false,
     "points": 1,
     "schema_version": 3,
     "solution": true,
     "task": false
    }
   },
   "outputs": [
    {
     "data": {
      "text/html": [
       "<div>\n",
       "<style scoped>\n",
       "    .dataframe tbody tr th:only-of-type {\n",
       "        vertical-align: middle;\n",
       "    }\n",
       "\n",
       "    .dataframe tbody tr th {\n",
       "        vertical-align: top;\n",
       "    }\n",
       "\n",
       "    .dataframe thead th {\n",
       "        text-align: right;\n",
       "    }\n",
       "</style>\n",
       "<table border=\"1\" class=\"dataframe\">\n",
       "  <thead>\n",
       "    <tr style=\"text-align: right;\">\n",
       "      <th></th>\n",
       "      <th>Appliances</th>\n",
       "      <th>lights</th>\n",
       "      <th>energy</th>\n",
       "      <th>cost</th>\n",
       "    </tr>\n",
       "  </thead>\n",
       "  <tbody>\n",
       "    <tr>\n",
       "      <th>2016-04-25</th>\n",
       "      <td>13566.0</td>\n",
       "      <td>344.666667</td>\n",
       "      <td>13910.666667</td>\n",
       "      <td>3.825433</td>\n",
       "    </tr>\n",
       "    <tr>\n",
       "      <th>2016-04-26</th>\n",
       "      <td>13566.0</td>\n",
       "      <td>344.666667</td>\n",
       "      <td>13910.666667</td>\n",
       "      <td>3.825433</td>\n",
       "    </tr>\n",
       "    <tr>\n",
       "      <th>2016-04-27</th>\n",
       "      <td>13566.0</td>\n",
       "      <td>344.666667</td>\n",
       "      <td>13910.666667</td>\n",
       "      <td>3.825433</td>\n",
       "    </tr>\n",
       "    <tr>\n",
       "      <th>2016-04-28</th>\n",
       "      <td>13566.0</td>\n",
       "      <td>344.666667</td>\n",
       "      <td>13910.666667</td>\n",
       "      <td>3.825433</td>\n",
       "    </tr>\n",
       "    <tr>\n",
       "      <th>2016-04-29</th>\n",
       "      <td>13566.0</td>\n",
       "      <td>344.666667</td>\n",
       "      <td>13910.666667</td>\n",
       "      <td>3.825433</td>\n",
       "    </tr>\n",
       "  </tbody>\n",
       "</table>\n",
       "</div>"
      ],
      "text/plain": [
       "            Appliances      lights        energy      cost\n",
       "2016-04-25     13566.0  344.666667  13910.666667  3.825433\n",
       "2016-04-26     13566.0  344.666667  13910.666667  3.825433\n",
       "2016-04-27     13566.0  344.666667  13910.666667  3.825433\n",
       "2016-04-28     13566.0  344.666667  13910.666667  3.825433\n",
       "2016-04-29     13566.0  344.666667  13910.666667  3.825433"
      ]
     },
     "execution_count": 26,
     "metadata": {},
     "output_type": "execute_result"
    }
   ],
   "source": [
    "df = get_data()\n",
    "df = get_monthly_bill(df)\n",
    "\n",
    "def extrapolate_daily_bill(df):\n",
    "    quarter = pd.date_range('2016-01-29', '2016-04-29')\n",
    "    df = df.reindex(quarter).resample('D').asfreq().divide(30).ffill()\n",
    "    return df \n",
    "\n",
    "extrapolate_daily_bill(df).tail()"
   ]
  },
  {
   "cell_type": "code",
   "execution_count": 27,
   "metadata": {
    "deletable": false,
    "editable": false,
    "nbgrader": {
     "cell_type": "code",
     "checksum": "28ee535181c70401a331fc3eabb744f3",
     "grade": false,
     "grade_id": "cell-067b238cbf39e0d3",
     "locked": true,
     "schema_version": 3,
     "solution": false,
     "task": false
    }
   },
   "outputs": [
    {
     "data": {
      "text/plain": [
       "(3.5, 4.8)"
      ]
     },
     "execution_count": 27,
     "metadata": {},
     "output_type": "execute_result"
    },
    {
     "data": {
      "image/png": "[encoded data removed]",
      "text/plain": [
       "<Figure size 432x288 with 2 Axes>"
      ]
     },
     "metadata": {
      "needs_background": "light"
     },
     "output_type": "display_data"
    }
   ],
   "source": [
    "df = get_data()\n",
    "daily_temp = get_outdoor_daily_temp(df)['2016-01-29':'2016-04-29']\n",
    "daily_bill = extrapolate_daily_bill(get_monthly_bill(df))['cost']\n",
    "\n",
    "fig,ax = plt.subplots()\n",
    "ax.set_xticklabels(ax.get_xticklabels(), rotation=45)\n",
    "ax.plot(daily_temp, color=\"red\", marker=\"o\")\n",
    "ax.set_xlabel(\"Date\",fontsize=14)\n",
    "ax.set_ylabel(\"Temperature ($^\\circ F$)\",color=\"red\",fontsize=14)\n",
    "ax.set_ylim(ymin=25, ymax=65)\n",
    "# twin object for two different y-axis on the sample plot\n",
    "ax2=ax.twinx()\n",
    "ax2.plot(daily_bill,color=\"blue\")\n",
    "ax2.set_ylabel(\"Cost ($)\",color=\"blue\",fontsize=14)\n",
    "ax2.set_ylim(ymin=3.5, ymax=4.8)"
   ]
  },
  {
   "cell_type": "markdown",
   "metadata": {
    "deletable": false,
    "editable": false,
    "nbgrader": {
     "cell_type": "markdown",
     "checksum": "1110f645498f1f6cd8d88915b16b9348",
     "grade": false,
     "grade_id": "cell-f2570fc96d051e36",
     "locked": true,
     "schema_version": 3,
     "solution": false,
     "task": false
    }
   },
   "source": [
    "**BONUS** (preview for next class): The temperature plot is a bit messy due to the large variability. Let's try smoothing it out not by plotting the daily temperatures, but rather an average of the two daily temperatures before and after a particular day (including that date itself). See the diagram below.\n",
    "\n",
    "![rolling window](window.png)\n",
    "\n",
    "Return a series with these new values. Note: [Timedelta](https://pandas.pydata.org/pandas-docs/stable/reference/api/pandas.Timedelta.html) might come in particularly handy..."
   ]
  },
  {
   "cell_type": "code",
   "execution_count": 32,
   "metadata": {
    "deletable": false,
    "nbgrader": {
     "cell_type": "code",
     "checksum": "214089b0f5181f423509aa2e7908912a",
     "grade": true,
     "grade_id": "cell-43437e42a048632a",
     "locked": false,
     "points": 1,
     "schema_version": 3,
     "solution": true,
     "task": false
    }
   },
   "outputs": [
    {
     "data": {
      "text/plain": [
       "2016-01-11   NaN\n",
       "dtype: float64"
      ]
     },
     "execution_count": 32,
     "metadata": {},
     "output_type": "execute_result"
    }
   ],
   "source": [
    "df = get_data()\n",
    "temps = get_outdoor_daily_temp(df)\n",
    "\n",
    "def get_smooth_temps(temps):\n",
    "    smooth_temps = pd.Series()\n",
    "    for date in temps.index:\n",
    "        dates = [date + pd.Timedelta(days = x) for x in range(-2, 3)] \n",
    "        smooth_temps[date] = np.mean([temps.get(date, np.nan) for date in dates])\n",
    "        return smooth_temps\n",
    "    \n",
    "get_smooth_temps(temps).head()"
   ]
  },
  {
   "cell_type": "markdown",
   "metadata": {
    "deletable": false,
    "editable": false,
    "nbgrader": {
     "cell_type": "markdown",
     "checksum": "50594fca3d2a0539e3ce45cb4f6a2a64",
     "grade": false,
     "grade_id": "cell-2f6c3710fc7f3106",
     "locked": true,
     "schema_version": 3,
     "solution": false,
     "task": false
    }
   },
   "source": [
    "Now, try using the [rolling](https://pandas.pydata.org/pandas-docs/stable/reference/api/pandas.DataFrame.rolling.html) function! It should help simplify this task."
   ]
  },
  {
   "cell_type": "code",
   "execution_count": 33,
   "metadata": {
    "deletable": false,
    "nbgrader": {
     "cell_type": "code",
     "checksum": "5fe1de15aa542d9f594a67887fd6082e",
     "grade": true,
     "grade_id": "cell-8b7463e1d82b42ad",
     "locked": false,
     "points": 1,
     "schema_version": 3,
     "solution": true,
     "task": false
    }
   },
   "outputs": [
    {
     "data": {
      "text/plain": [
       "date\n",
       "2016-01-11          NaN\n",
       "2016-01-12          NaN\n",
       "2016-01-13    40.079518\n",
       "2016-01-14    38.737250\n",
       "2016-01-15    36.874750\n",
       "Freq: D, Name: T_out, dtype: float64"
      ]
     },
     "execution_count": 33,
     "metadata": {},
     "output_type": "execute_result"
    }
   ],
   "source": [
    "df = get_data()\n",
    "temps = get_outdoor_daily_temp(df)\n",
    "\n",
    "def get_smooth_temps_with_rolling_window(temps):\n",
    "    return temps.rolling(5, center = True).mean()\n",
    "\n",
    "get_smooth_temps_with_rolling_window(temps).head()"
   ]
  },
  {
   "cell_type": "code",
   "execution_count": 34,
   "metadata": {
    "deletable": false,
    "editable": false,
    "nbgrader": {
     "cell_type": "code",
     "checksum": "3c70f1651c235d48a0332252345bb7b8",
     "grade": false,
     "grade_id": "cell-7d8a4c93a3726d74",
     "locked": true,
     "schema_version": 3,
     "solution": false,
     "task": false
    }
   },
   "outputs": [
    {
     "data": {
      "text/plain": [
       "(3.5, 4.8)"
      ]
     },
     "execution_count": 34,
     "metadata": {},
     "output_type": "execute_result"
    },
    {
     "data": {
      "image/png": "[encoded data removed]",
      "text/plain": [
       "<Figure size 432x288 with 2 Axes>"
      ]
     },
     "metadata": {
      "needs_background": "light"
     },
     "output_type": "display_data"
    }
   ],
   "source": [
    "df = get_data()\n",
    "daily_temp = get_outdoor_daily_temp(df)['2016-01-29':'2016-04-29']\n",
    "smooth_temps = get_smooth_temps_with_rolling_window(daily_temp)\n",
    "daily_bill = extrapolate_daily_bill(get_monthly_bill(df))['cost']\n",
    "\n",
    "fig,ax = plt.subplots()\n",
    "ax.set_xticklabels(ax.get_xticklabels(), rotation=45)\n",
    "ax.plot(smooth_temps, color=\"red\")\n",
    "ax.set_xlabel(\"Date\",fontsize=14)\n",
    "ax.set_ylabel(\"Temperature ($^\\circ F$)\",color=\"red\",fontsize=14)\n",
    "ax.set_ylim(ymin=25, ymax=65)\n",
    "ax2 = ax.twinx()\n",
    "ax2.plot(daily_bill,color=\"blue\")\n",
    "ax2.set_ylabel(\"Cost ($)\",color=\"blue\",fontsize=14)\n",
    "ax2.set_ylim(ymin=3.50, ymax=4.80)"
   ]
  },
  {
   "cell_type": "markdown",
   "metadata": {
    "deletable": false,
    "editable": false,
    "nbgrader": {
     "cell_type": "markdown",
     "checksum": "db3147909d55723220a0404881581573",
     "grade": false,
     "grade_id": "cell-f1079aa97316a3b5",
     "locked": true,
     "schema_version": 3,
     "solution": false,
     "task": false
    }
   },
   "source": [
    "What do you notice about this new plot? What can you say about the relationship between energy costs and temperature (if any)?"
   ]
  },
  {
   "cell_type": "markdown",
   "metadata": {
    "deletable": false,
    "editable": false,
    "nbgrader": {
     "cell_type": "markdown",
     "checksum": "e2e4d4789c7696d36e73e0638648018a",
     "grade": false,
     "grade_id": "cell-da9a472f544988f0",
     "locked": true,
     "schema_version": 3,
     "solution": false,
     "task": false
    }
   },
   "source": [
    "<h3><center>END OF PART 2</center></h3>\n",
    "\n",
    "When you are done, **check your solution** with an instructor, or view the solution at **3:45 pm** for **[get_monthly_bill](https://drive.google.com/file/d/1SGtAnTJm-bsKcQo4lohVzV8O5oAy3QOO/view?usp=sharing)** and **[extrapolate_daily_bill](https://drive.google.com/file/d/1aCPeE5GeeSmSWisZQHnwo7QhPCq6A1hv/view?usp=sharing)**.\n",
    "\n",
    "Bonus solution for **[get_smooth_temps](https://drive.google.com/file/d/1ltqpIO_M9Y2rP5a3cEcjCD2iiwQnR3Ma/view?usp=sharing)**.\n",
    "\n",
    "-----------------------------------"
   ]
  },
  {
   "cell_type": "markdown",
   "metadata": {
    "deletable": false,
    "editable": false,
    "nbgrader": {
     "cell_type": "markdown",
     "checksum": "774611f2137a6e66229e09fcefdd268e",
     "grade": false,
     "grade_id": "cell-f5d701e4fdaaa5e2",
     "locked": true,
     "schema_version": 3,
     "solution": false,
     "task": false
    }
   },
   "source": [
    "**For full lab completion points, commit and push your changes, and fill out the exit ticket.**"
   ]
  }
 ],
 "metadata": {
  "kernelspec": {
   "display_name": "Python 3",
   "language": "python",
   "name": "python3"
  },
  "language_info": {
   "codemirror_mode": {
    "name": "ipython",
    "version": 3
   },
   "file_extension": ".py",
   "mimetype": "text/x-python",
   "name": "python",
   "nbconvert_exporter": "python",
   "pygments_lexer": "ipython3",
   "version": "3.7.3"
  }
 },
 "nbformat": 4,
 "nbformat_minor": 4
}
